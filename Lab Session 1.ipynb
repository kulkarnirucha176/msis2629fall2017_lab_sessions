{
 "cells": [
  {
   "cell_type": "markdown",
   "metadata": {
    "deletable": true,
    "editable": true
   },
   "source": [
    "# Lab Session 1\n",
    "\n",
    "In this lab session, we work on data on security breaches from [\"Information is Beautiful\"](http://www.informationisbeautiful.net/visualizations/worlds-biggest-data-breaches-hacks/). You can download the dataset [here](https://docs.google.com/spreadsheets/d/1Je-YUdnhjQJO_13r8iTeRxpU2pBKuV6RVRHoYCgiMfg/edit#gid=322165570)."
   ]
  },
  {
   "cell_type": "markdown",
   "metadata": {
    "deletable": true,
    "editable": true
   },
   "source": [
    "## Please note\n",
    "I encourage you to submit a preliminary version by Friday night. I can look over your preliminary results and give you feedback.\n"
   ]
  },
  {
   "cell_type": "markdown",
   "metadata": {},
   "source": [
    "## Basic use of Python in Jupyter"
   ]
  },
  {
   "cell_type": "markdown",
   "metadata": {},
   "source": [
    "### Some principles:\n",
    "  * Everything is handled in cells. Cells contain source code, explanation, documentation, and output.\n",
    "  * Jupyter is interactive and differentiates between a command mode (`Esc`) and an edit mode (`Enter`).\n",
    "  * Keyboard shortcuts are vital to know for effective work in Jupyter"
   ]
  },
  {
   "cell_type": "markdown",
   "metadata": {},
   "source": [
    "### Most important keyboard shortcuts\n",
    "  * `Enter` will bring you into edit mode\n",
    "    + In edit mode you can write Python or [Markdown](https://github.com/adam-p/markdown-here/wiki/Markdown-Cheatsheet)\n",
    "  * `Esc` will bring you in command mode\n",
    "    + `b` will create a new cell below the current sell (`a` creates a cell above)\n",
    "    + `y` interprets a cell as code\n",
    "    + `m` interprets a cell as markdown\n",
    "    + pressing `d` twice deletes a cell\n",
    "  * `Shift + Enter` runs a cell\n",
    "  * `Shift + Command + P` opens the command palette\n",
    "  * You can run shell commands using `!` - This is helpful to see available files"
   ]
  },
  {
   "cell_type": "markdown",
   "metadata": {},
   "source": [
    "We use the pandas library to wrangle data. You can access the pandas documentation in the `Help` menu."
   ]
  },
  {
   "cell_type": "markdown",
   "metadata": {},
   "source": [
    "The following command allows us to display multiple outputs at the same time (Highly useful!) \\[Reference: [dataquest.io](https://www.dataquest.io/blog/jupyter-notebook-tips-tricks-shortcuts/)\\]"
   ]
  },
  {
   "cell_type": "code",
   "execution_count": 7,
   "metadata": {
    "collapsed": true,
    "deletable": true,
    "editable": true
   },
   "outputs": [],
   "source": [
    "from IPython.core.interactiveshell import InteractiveShell\n",
    "InteractiveShell.ast_node_interactivity = \"all\""
   ]
  },
  {
   "cell_type": "markdown",
   "metadata": {},
   "source": [
    "The pandas library is one of the most important libraries for data wrangling. Let's import it.'"
   ]
  },
  {
   "cell_type": "code",
   "execution_count": 8,
   "metadata": {
    "collapsed": true
   },
   "outputs": [],
   "source": [
    "import pandas as pd"
   ]
  },
  {
   "cell_type": "markdown",
   "metadata": {},
   "source": [
    "Pandas can access data in variety of ways. Check out the [documentation](http://pandas.pydata.org/pandas-docs/stable/index.html).\n",
    "\n",
    "Here, we just get the data straight from the google spreadsheet. This have the advantage that we get the current data and the risk that the spreadsheet may not be available any longer in the future."
   ]
  },
  {
   "cell_type": "code",
   "execution_count": 9,
   "metadata": {
    "collapsed": false,
    "deletable": true,
    "editable": true
   },
   "outputs": [],
   "source": [
    "raw_data = pd.read_csv('https://docs.google.com/spreadsheets/d/' + # The standard google link components\n",
    "                   '1Je-YUdnhjQJO_13r8iTeRxpU2pBKuV6RVRHoYCgiMfg' + # Sheet ID\n",
    "                   '/export?gid=322165570&format=csv', # GID = Worksheet\n",
    "                   error_bad_lines=False,\n",
    "                   header=[1,2] # The dataset has two columns\n",
    "                  )\n",
    "raw_data.columns = raw_data.columns.get_level_values(0) # We flatten the header"
   ]
  },
  {
   "cell_type": "markdown",
   "metadata": {},
   "source": [
    "We create a copy of the data and select some interesting columns"
   ]
  },
  {
   "cell_type": "code",
   "execution_count": 10,
   "metadata": {
    "collapsed": false,
    "deletable": true,
    "editable": true
   },
   "outputs": [],
   "source": [
    "leaks = raw_data[['Entity', 'YEAR','records lost', 'METHOD OF LEAK', 'DATA SENSITIVITY']].copy()"
   ]
  },
  {
   "cell_type": "markdown",
   "metadata": {},
   "source": [
    "We look at the header and the footer of the dataframe."
   ]
  },
  {
   "cell_type": "code",
   "execution_count": 12,
   "metadata": {
    "collapsed": false,
    "deletable": true,
    "editable": true
   },
   "outputs": [
    {
     "data": {
      "text/html": [
       "<div>\n",
       "<table border=\"1\" class=\"dataframe\">\n",
       "  <thead>\n",
       "    <tr style=\"text-align: right;\">\n",
       "      <th></th>\n",
       "      <th>Entity</th>\n",
       "      <th>YEAR</th>\n",
       "      <th>records lost</th>\n",
       "      <th>METHOD OF LEAK</th>\n",
       "      <th>DATA SENSITIVITY</th>\n",
       "    </tr>\n",
       "  </thead>\n",
       "  <tbody>\n",
       "    <tr>\n",
       "      <th>0</th>\n",
       "      <td>AOL</td>\n",
       "      <td>0</td>\n",
       "      <td>92000000.0</td>\n",
       "      <td>inside job</td>\n",
       "      <td>1</td>\n",
       "    </tr>\n",
       "    <tr>\n",
       "      <th>1</th>\n",
       "      <td>Automatic Data Processing</td>\n",
       "      <td>1</td>\n",
       "      <td>125000.0</td>\n",
       "      <td>poor security</td>\n",
       "      <td>20</td>\n",
       "    </tr>\n",
       "    <tr>\n",
       "      <th>2</th>\n",
       "      <td>Ameritrade Inc.</td>\n",
       "      <td>1</td>\n",
       "      <td>200000.0</td>\n",
       "      <td>lost / stolen device</td>\n",
       "      <td>20</td>\n",
       "    </tr>\n",
       "    <tr>\n",
       "      <th>3</th>\n",
       "      <td>Citigroup</td>\n",
       "      <td>1</td>\n",
       "      <td>3900000.0</td>\n",
       "      <td>lost / stolen device</td>\n",
       "      <td>300</td>\n",
       "    </tr>\n",
       "    <tr>\n",
       "      <th>4</th>\n",
       "      <td>Cardsystems Solutions Inc.</td>\n",
       "      <td>1</td>\n",
       "      <td>40000000.0</td>\n",
       "      <td>hacked</td>\n",
       "      <td>300</td>\n",
       "    </tr>\n",
       "  </tbody>\n",
       "</table>\n",
       "</div>"
      ],
      "text/plain": [
       "                        Entity  YEAR  records lost        METHOD OF LEAK  \\\n",
       "0                          AOL     0    92000000.0            inside job   \n",
       "1    Automatic Data Processing     1      125000.0         poor security   \n",
       "2              Ameritrade Inc.     1      200000.0  lost / stolen device   \n",
       "3                    Citigroup     1     3900000.0  lost / stolen device   \n",
       "4  Cardsystems Solutions Inc.      1    40000000.0                hacked   \n",
       "\n",
       "   DATA SENSITIVITY  \n",
       "0                 1  \n",
       "1                20  \n",
       "2                20  \n",
       "3               300  \n",
       "4               300  "
      ]
     },
     "execution_count": 12,
     "metadata": {},
     "output_type": "execute_result"
    },
    {
     "data": {
      "text/html": [
       "<div>\n",
       "<table border=\"1\" class=\"dataframe\">\n",
       "  <thead>\n",
       "    <tr style=\"text-align: right;\">\n",
       "      <th></th>\n",
       "      <th>Entity</th>\n",
       "      <th>YEAR</th>\n",
       "      <th>records lost</th>\n",
       "      <th>METHOD OF LEAK</th>\n",
       "      <th>DATA SENSITIVITY</th>\n",
       "    </tr>\n",
       "  </thead>\n",
       "  <tbody>\n",
       "    <tr>\n",
       "      <th>248</th>\n",
       "      <td>CEX</td>\n",
       "      <td>14</td>\n",
       "      <td>2000000.0</td>\n",
       "      <td>accidentally published</td>\n",
       "      <td>300</td>\n",
       "    </tr>\n",
       "    <tr>\n",
       "      <th>249</th>\n",
       "      <td>Swedish Transport Agency</td>\n",
       "      <td>14</td>\n",
       "      <td>3000000.0</td>\n",
       "      <td>poor security</td>\n",
       "      <td>50000</td>\n",
       "    </tr>\n",
       "    <tr>\n",
       "      <th>250</th>\n",
       "      <td>Instagram</td>\n",
       "      <td>14</td>\n",
       "      <td>6000000.0</td>\n",
       "      <td>hacked</td>\n",
       "      <td>1</td>\n",
       "    </tr>\n",
       "    <tr>\n",
       "      <th>251</th>\n",
       "      <td>Equifax</td>\n",
       "      <td>14</td>\n",
       "      <td>143000000.0</td>\n",
       "      <td>hacked</td>\n",
       "      <td>50000</td>\n",
       "    </tr>\n",
       "    <tr>\n",
       "      <th>252</th>\n",
       "      <td>Spambot</td>\n",
       "      <td>14</td>\n",
       "      <td>711000000.0</td>\n",
       "      <td>poor security</td>\n",
       "      <td>4000</td>\n",
       "    </tr>\n",
       "  </tbody>\n",
       "</table>\n",
       "</div>"
      ],
      "text/plain": [
       "                       Entity  YEAR  records lost          METHOD OF LEAK  \\\n",
       "248                       CEX    14     2000000.0  accidentally published   \n",
       "249  Swedish Transport Agency    14     3000000.0           poor security   \n",
       "250                 Instagram    14     6000000.0                  hacked   \n",
       "251                   Equifax    14   143000000.0                  hacked   \n",
       "252                   Spambot    14   711000000.0           poor security   \n",
       "\n",
       "     DATA SENSITIVITY  \n",
       "248               300  \n",
       "249             50000  \n",
       "250                 1  \n",
       "251             50000  \n",
       "252              4000  "
      ]
     },
     "execution_count": 12,
     "metadata": {},
     "output_type": "execute_result"
    }
   ],
   "source": [
    "leaks.head()\n",
    "leaks.tail()"
   ]
  },
  {
   "cell_type": "code",
   "execution_count": 13,
   "metadata": {
    "collapsed": true
   },
   "outputs": [],
   "source": [
    "leaks.to_csv('iib_leaks.csv')"
   ]
  },
  {
   "cell_type": "markdown",
   "metadata": {},
   "source": [
    "See the results in Tableau Public [here](https://public.tableau.com/profile/michael.schermann#!/vizhome/LabSession1-SecurityBreaches/Dashboard1)."
   ]
  }
 ],
 "metadata": {
  "kernelspec": {
   "display_name": "Python 3",
   "language": "python",
   "name": "python3"
  },
  "language_info": {
   "codemirror_mode": {
    "name": "ipython",
    "version": 3
   },
   "file_extension": ".py",
   "mimetype": "text/x-python",
   "name": "python",
   "nbconvert_exporter": "python",
   "pygments_lexer": "ipython3",
   "version": "3.6.0"
  }
 },
 "nbformat": 4,
 "nbformat_minor": 2
}
